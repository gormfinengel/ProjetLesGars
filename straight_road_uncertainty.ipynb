{
 "cells": [
  {
   "cell_type": "code",
   "execution_count": 256,
   "id": "acc1218f",
   "metadata": {},
   "outputs": [],
   "source": [
    "import modele as mod\n",
    "import sections as s\n",
    "import numpy as np\n",
    "import matplotlib.pyplot as plt\n",
    "from matplotlib.animation import FuncAnimation\n",
    "import seaborn as sns\n",
    "import plotly.express as px\n",
    "from tqdm import tqdm"
   ]
  },
  {
   "cell_type": "markdown",
   "id": "410f29d4",
   "metadata": {},
   "source": [
    "## Caractéristiques de la route"
   ]
  },
  {
   "cell_type": "code",
   "execution_count": 257,
   "id": "a8be3916",
   "metadata": {},
   "outputs": [],
   "source": [
    "N = 100                        #Taille de la route (en mailles)   \n",
    "U_init = np.zeros(N)           #Discrétisation de la route\n",
    "#U_init[0:30] = 100\n",
    "h = 0.1                         #Taille de chaque maille (en km)\n",
    "I = 1                          #Nombre de lignes\n",
    "nom = \"Section solo test\""
   ]
  },
  {
   "cell_type": "markdown",
   "id": "b04a0b28",
   "metadata": {},
   "source": [
    "## Caractéristiques de la simulation"
   ]
  },
  {
   "cell_type": "code",
   "execution_count": 258,
   "id": "9737c12b",
   "metadata": {},
   "outputs": [],
   "source": [
    "p_c = 100.                     #Densité critique (en vh/km)\n",
    "p_max = 150.                   #Densité max (en vh/km)\n",
    "V_0 = 50.                      #Vitesse souhaitée (en km/h)                         \n",
    "flux_entrant = 800            #Flux de véhicules entrant (en vh/h)\n",
    "fl_fix = flux_entrant\n",
    "#flux_t_entrant = 0            #Flux de temps d'attente\n",
    "#T = 1.4/3600                   #Temps de réaction\n",
    "dt =  0.99*(h/V_0)             #CFL"
   ]
  },
  {
   "cell_type": "code",
   "execution_count": 259,
   "id": "2532f1b7",
   "metadata": {},
   "outputs": [],
   "source": [
    "def plus(route):  \n",
    "    route.flux_entrant+=500\n",
    "\n",
    "\n",
    "def moins(route):\n",
    "    if route.flux_entrant - 500>=0:\n",
    "        route.flux_entrant-=500"
   ]
  },
  {
   "cell_type": "markdown",
   "id": "491b2854",
   "metadata": {},
   "source": [
    "## Définitions des objets et def"
   ]
  },
  {
   "cell_type": "code",
   "execution_count": 260,
   "id": "49eefb50",
   "metadata": {},
   "outputs": [
    {
     "name": "stdout",
     "output_type": "stream",
     "text": [
      "init\n",
      "I = 1\n",
      "p_max = 150.0\n",
      "T = 6.666666666666667e-05\n",
      "2.0\n",
      "La route Section solo test a p_c = 75.0\n"
     ]
    }
   ],
   "source": [
    "#Définition de la route\n",
    "route = s.section(p_max = p_max, V_0 = V_0, I = I, U = U_init, flux_entrant=flux_entrant, p_c = p_c, nom = nom, sortie=True)"
   ]
  },
  {
   "cell_type": "code",
   "execution_count": 261,
   "id": "81be8e76",
   "metadata": {},
   "outputs": [],
   "source": [
    "#Définition du modèle\n",
    "model = mod.model([route], intersections= None, carrefours= None, dt = dt, h = h)"
   ]
  },
  {
   "cell_type": "code",
   "execution_count": 262,
   "id": "bc2b223e",
   "metadata": {},
   "outputs": [],
   "source": [
    "#Variation du flux d'entrée\n",
    "def variation(route):\n",
    "    sigma = np.random.normal(0,0.1)\n",
    "    if int(route.flux_entrant + sigma*fl_fix)>0:\n",
    "        route.flux_entrant = route.flux_entrant + sigma*fl_fix\n",
    "\n",
    "    "
   ]
  },
  {
   "cell_type": "markdown",
   "id": "0d8b6e9f",
   "metadata": {},
   "source": [
    "# La suite à ne pas executer si on veut lancer MONTE CARLO !!!!"
   ]
  },
  {
   "cell_type": "markdown",
   "id": "a65c94cc",
   "metadata": {},
   "source": [
    "## Visualisation"
   ]
  },
  {
   "cell_type": "code",
   "execution_count": 253,
   "id": "4bc87d9f",
   "metadata": {},
   "outputs": [
    {
     "data": {
      "image/png": "[encoded data removed]",
      "text/plain": [
       "<Figure size 1000x800 with 1 Axes>"
      ]
     },
     "metadata": {},
     "output_type": "display_data"
    }
   ],
   "source": [
    "fig = plt.figure(figsize=(10,8))\n",
    "ax = plt.axes(xlim=(0, N), ylim=(0, 150))\n",
    "line, = plt.plot([], [], lw=2)\n",
    "\n",
    "# initialization function: plot the background of each frame\n",
    "def init():\n",
    "    line.set_data([], [])\n",
    "    return line,\n",
    "\n",
    "# animation function.  This is called sequentially\n",
    "def animate(i):\n",
    "    model.resoudre()\n",
    "    variation(route)\n",
    "    x = np.linspace(0, N-1, N)\n",
    "    y = route.U\n",
    "    line.set_data(x, y)\n",
    "    return line,\n",
    "\n",
    "# call the animator.  blit=True means only re-draw the parts that have changed.\n",
    "anim = FuncAnimation(fig, animate, init_func=init, frames=500, interval=50, blit=True)\n",
    "\n",
    "anim.save('densite_evolution.mp4', fps=30, extra_args=['-vcodec', 'libx264'])\n",
    "\n",
    "plt.show()"
   ]
  },
  {
   "cell_type": "markdown",
   "id": "a885ec18",
   "metadata": {},
   "source": [
    "## Monte Carlo"
   ]
  },
  {
   "cell_type": "code",
   "execution_count": 268,
   "id": "08c4e126",
   "metadata": {},
   "outputs": [],
   "source": [
    "def simulation(T):\n",
    "    # T correspond au nombre de pas de temps qu'on veut pour notre simulation\n",
    "    pho_global = np.zeros((T,N))\n",
    "\n",
    "    for i in range(T):\n",
    "        model.resoudre()\n",
    "        variation(route)\n",
    "        pho_global[i] = route.U\n",
    "\n",
    "    pho_global"
   ]
  },
  {
   "cell_type": "code",
   "execution_count": 276,
   "id": "7d5706de",
   "metadata": {},
   "outputs": [],
   "source": [
    "def MC_sim(M, simulator, T, N):\n",
    "    # M correspond au nombre d'iter pour MC\n",
    "    #simulator correspond au modèle à simuler\n",
    "    stockage = np.zeros((M,T,N))\n",
    "    for m in range(M):\n",
    "        stockage[m] = simulator()"
   ]
  },
  {
   "cell_type": "code",
   "execution_count": 277,
   "id": "e7638a5b",
   "metadata": {},
   "outputs": [
    {
     "ename": "TypeError",
     "evalue": "'numpy.ndarray' object is not callable",
     "output_type": "error",
     "traceback": [
      "\u001b[0;31m---------------------------------------------------------------------------\u001b[0m",
      "\u001b[0;31mTypeError\u001b[0m                                 Traceback (most recent call last)",
      "\u001b[0;32m/var/folders/c_/qh1ltnhj0bldgcsw7fdmwt040000gn/T/ipykernel_5249/4265033509.py\u001b[0m in \u001b[0;36m<module>\u001b[0;34m\u001b[0m\n\u001b[0;32m----> 1\u001b[0;31m \u001b[0mnp\u001b[0m\u001b[0;34m.\u001b[0m\u001b[0mshape\u001b[0m\u001b[0;34m(\u001b[0m\u001b[0mMC_sim\u001b[0m\u001b[0;34m(\u001b[0m\u001b[0;36m100\u001b[0m\u001b[0;34m,\u001b[0m \u001b[0msimulation\u001b[0m\u001b[0;34m(\u001b[0m\u001b[0;36m500\u001b[0m\u001b[0;34m)\u001b[0m\u001b[0;34m,\u001b[0m \u001b[0;36m500\u001b[0m\u001b[0;34m,\u001b[0m \u001b[0mN\u001b[0m\u001b[0;34m)\u001b[0m\u001b[0;34m)\u001b[0m\u001b[0;34m\u001b[0m\u001b[0;34m\u001b[0m\u001b[0m\n\u001b[0m",
      "\u001b[0;32m/var/folders/c_/qh1ltnhj0bldgcsw7fdmwt040000gn/T/ipykernel_5249/4270756600.py\u001b[0m in \u001b[0;36mMC_sim\u001b[0;34m(M, simulator, T, N)\u001b[0m\n\u001b[1;32m      4\u001b[0m     \u001b[0mstockage\u001b[0m \u001b[0;34m=\u001b[0m \u001b[0mnp\u001b[0m\u001b[0;34m.\u001b[0m\u001b[0mzeros\u001b[0m\u001b[0;34m(\u001b[0m\u001b[0;34m(\u001b[0m\u001b[0mM\u001b[0m\u001b[0;34m,\u001b[0m\u001b[0mT\u001b[0m\u001b[0;34m,\u001b[0m\u001b[0mN\u001b[0m\u001b[0;34m)\u001b[0m\u001b[0;34m)\u001b[0m\u001b[0;34m\u001b[0m\u001b[0;34m\u001b[0m\u001b[0m\n\u001b[1;32m      5\u001b[0m     \u001b[0;32mfor\u001b[0m \u001b[0mm\u001b[0m \u001b[0;32min\u001b[0m \u001b[0mrange\u001b[0m\u001b[0;34m(\u001b[0m\u001b[0mM\u001b[0m\u001b[0;34m)\u001b[0m\u001b[0;34m:\u001b[0m\u001b[0;34m\u001b[0m\u001b[0;34m\u001b[0m\u001b[0m\n\u001b[0;32m----> 6\u001b[0;31m         \u001b[0mstockage\u001b[0m\u001b[0;34m[\u001b[0m\u001b[0mm\u001b[0m\u001b[0;34m]\u001b[0m \u001b[0;34m=\u001b[0m \u001b[0msimulator\u001b[0m\u001b[0;34m(\u001b[0m\u001b[0;34m)\u001b[0m\u001b[0;34m\u001b[0m\u001b[0;34m\u001b[0m\u001b[0m\n\u001b[0m",
      "\u001b[0;31mTypeError\u001b[0m: 'numpy.ndarray' object is not callable"
     ]
    }
   ],
   "source": [
    "np.shape(MC_sim(100, simulation(500), 500, N))"
   ]
  },
  {
   "cell_type": "code",
   "execution_count": null,
   "id": "03c938bd",
   "metadata": {},
   "outputs": [],
   "source": []
  },
  {
   "cell_type": "code",
   "execution_count": null,
   "id": "e122db34",
   "metadata": {},
   "outputs": [],
   "source": []
  }
 ],
 "metadata": {
  "kernelspec": {
   "display_name": "Python 3 (ipykernel)",
   "language": "python",
   "name": "python3"
  },
  "language_info": {
   "codemirror_mode": {
    "name": "ipython",
    "version": 3
   },
   "file_extension": ".py",
   "mimetype": "text/x-python",
   "name": "python",
   "nbconvert_exporter": "python",
   "pygments_lexer": "ipython3",
   "version": "3.10.4"
  }
 },
 "nbformat": 4,
 "nbformat_minor": 5
}
