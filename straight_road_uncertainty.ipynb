{
 "cells": [
  {
   "cell_type": "code",
   "execution_count": 13,
   "id": "acc1218f",
   "metadata": {},
   "outputs": [],
   "source": [
    "import modele as mod\n",
    "import sections as s\n",
    "import numpy as np\n",
    "import matplotlib.pyplot as plt\n",
    "from matplotlib.animation import FuncAnimation\n",
    "import seaborn as sns\n",
    "import plotly.express as px\n",
    "import xarray as xr\n"
   ]
  },
  {
   "cell_type": "markdown",
   "id": "410f29d4",
   "metadata": {},
   "source": [
    "## Caractéristiques de la route"
   ]
  },
  {
   "cell_type": "code",
   "execution_count": 14,
   "id": "a8be3916",
   "metadata": {},
   "outputs": [],
   "source": [
    "N = 100                        #Taille de la route (en mailles)   \n",
    "U_init = np.zeros(N)           #Discrétisation de la route\n",
    "#U_init[0:30] = 100\n",
    "h = 0.1                         #Taille de chaque maille (en km)\n",
    "I = 1                          #Nombre de lignes\n",
    "nom = \"Section solo test\""
   ]
  },
  {
   "cell_type": "markdown",
   "id": "b04a0b28",
   "metadata": {},
   "source": [
    "## Caractéristiques de la simulation"
   ]
  },
  {
   "cell_type": "code",
   "execution_count": 15,
   "id": "9737c12b",
   "metadata": {},
   "outputs": [],
   "source": [
    "p_c = 100.                     #Densité critique (en vh/km)\n",
    "p_max = 150.                   #Densité max (en vh/km)\n",
    "V_0 = 50.                      #Vitesse souhaitée (en km/h)                         \n",
    "flux_entrant = 800            #Flux de véhicules entrant (en vh/h)\n",
    "fl_fix = flux_entrant\n",
    "#flux_t_entrant = 0            #Flux de temps d'attente\n",
    "#T = 1.4/3600                   #Temps de réaction\n",
    "dt =  0.99*(h/V_0)             #CFL"
   ]
  },
  {
   "cell_type": "code",
   "execution_count": 16,
   "id": "2532f1b7",
   "metadata": {},
   "outputs": [],
   "source": [
    "def plus(route):  \n",
    "    route.flux_entrant+=500\n",
    "\n",
    "\n",
    "def moins(route):\n",
    "    if route.flux_entrant - 500>=0:\n",
    "        route.flux_entrant-=500"
   ]
  },
  {
   "cell_type": "markdown",
   "id": "491b2854",
   "metadata": {},
   "source": [
    "## Définitions des objets et def"
   ]
  },
  {
   "cell_type": "code",
   "execution_count": 17,
   "id": "49eefb50",
   "metadata": {},
   "outputs": [
    {
     "name": "stdout",
     "output_type": "stream",
     "text": [
      "init\n",
      "I = 1\n",
      "p_max = 150.0\n",
      "T = 6.666666666666667e-05\n",
      "2.0\n",
      "La route Section solo test a p_c = 75.0\n"
     ]
    }
   ],
   "source": [
    "#Définition de la route\n",
    "route = s.section(p_max = p_max, V_0 = V_0, I = I, U = U_init, flux_entrant=flux_entrant, p_c = p_c, nom = nom, sortie=True)"
   ]
  },
  {
   "cell_type": "code",
   "execution_count": 18,
   "id": "81be8e76",
   "metadata": {},
   "outputs": [],
   "source": [
    "#Définition du modèle\n",
    "model = mod.model([route], intersections= None, carrefours= None, dt = dt, h = h)"
   ]
  },
  {
   "cell_type": "code",
   "execution_count": 19,
   "id": "bc2b223e",
   "metadata": {},
   "outputs": [],
   "source": [
    "#Variation du flux d'entrée\n",
    "def variation(route, fl_fix):\n",
    "    sigma = np.random.normal(0,0.1)\n",
    "    if (int(route.flux_entrant + sigma*fl_fix)>0 and int(route.flux_entrant + sigma*fl_fix)<1600):\n",
    "        route.flux_entrant = route.flux_entrant + sigma*fl_fix\n",
    "\n",
    "\n",
    "    "
   ]
  },
  {
   "cell_type": "markdown",
   "id": "0d8b6e9f",
   "metadata": {},
   "source": [
    "# La suite à ne pas executer si on veut lancer MONTE CARLO !!!!"
   ]
  },
  {
   "cell_type": "markdown",
   "id": "a65c94cc",
   "metadata": {},
   "source": [
    "## Visualisation"
   ]
  },
  {
   "cell_type": "code",
   "execution_count": 22,
   "id": "4bc87d9f",
   "metadata": {},
   "outputs": [
    {
     "ename": "AttributeError",
     "evalue": "'FuncAnimation' object has no attribute 'writers'",
     "output_type": "error",
     "traceback": [
      "\u001b[0;31m---------------------------------------------------------------------------\u001b[0m",
      "\u001b[0;31mAttributeError\u001b[0m                            Traceback (most recent call last)",
      "Cell \u001b[0;32mIn[22], line 22\u001b[0m\n\u001b[1;32m     19\u001b[0m \u001b[39m# call the animator.  blit=True means only re-draw the parts that have changed.\u001b[39;00m\n\u001b[1;32m     20\u001b[0m anim \u001b[39m=\u001b[39m FuncAnimation(fig, animate, init_func\u001b[39m=\u001b[39minit, frames\u001b[39m=\u001b[39m\u001b[39m500\u001b[39m, interval\u001b[39m=\u001b[39m\u001b[39m50\u001b[39m, blit\u001b[39m=\u001b[39m\u001b[39mTrue\u001b[39;00m)\n\u001b[0;32m---> 22\u001b[0m Writer \u001b[39m=\u001b[39m anim\u001b[39m.\u001b[39;49mwriters[\u001b[39m'\u001b[39m\u001b[39mffmpeg\u001b[39m\u001b[39m'\u001b[39m]\n\u001b[1;32m     23\u001b[0m writer \u001b[39m=\u001b[39m Writer(fps\u001b[39m=\u001b[39m\u001b[39m30\u001b[39m, metadata\u001b[39m=\u001b[39m\u001b[39mdict\u001b[39m(artist\u001b[39m=\u001b[39m\u001b[39m'\u001b[39m\u001b[39mMe\u001b[39m\u001b[39m'\u001b[39m), extra_args\u001b[39m=\u001b[39m[\u001b[39m'\u001b[39m\u001b[39m-vcodec\u001b[39m\u001b[39m'\u001b[39m, \u001b[39m'\u001b[39m\u001b[39mlibx264\u001b[39m\u001b[39m'\u001b[39m])\n\u001b[1;32m     24\u001b[0m anim\u001b[39m.\u001b[39msave(\u001b[39m'\u001b[39m\u001b[39mdensite_evolution.mp4\u001b[39m\u001b[39m'\u001b[39m, writer\u001b[39m=\u001b[39mwriter)\n",
      "\u001b[0;31mAttributeError\u001b[0m: 'FuncAnimation' object has no attribute 'writers'"
     ]
    },
    {
     "data": {
      "image/png": "[encoded data removed]",
      "text/plain": [
       "<Figure size 1000x800 with 1 Axes>"
      ]
     },
     "metadata": {},
     "output_type": "display_data"
    }
   ],
   "source": [
    "fig = plt.figure(figsize=(10,8))\n",
    "ax = plt.axes(xlim=(0, N), ylim=(0, 150))\n",
    "line, = plt.plot([], [], lw=2)\n",
    "\n",
    "# initialization function: plot the background of each frame\n",
    "def init():\n",
    "    line.set_data([], [])\n",
    "    return line,\n",
    "\n",
    "# animation function.  This is called sequentially\n",
    "def animate(i):\n",
    "    model.resoudre()\n",
    "    variation(route)\n",
    "    x = np.linspace(0, N-1, N)\n",
    "    y = route.U\n",
    "    line.set_data(x, y)\n",
    "    return line,\n",
    "\n",
    "# call the animator.  blit=True means only re-draw the parts that have changed.\n",
    "anim = FuncAnimation(fig, animate, init_func=init, frames=500, interval=50, blit=True)\n",
    "\n",
    "anim.save('densite_evolution.mp4', fps=30, extra_args=['-vcodec', 'libx264'])\n",
    "\n",
    "plt.show()"
   ]
  },
  {
   "cell_type": "markdown",
   "id": "a885ec18",
   "metadata": {},
   "source": [
    "## Monte Carlo"
   ]
  },
  {
   "cell_type": "code",
   "execution_count": null,
   "id": "a4b8f396",
   "metadata": {},
   "outputs": [],
   "source": [
    "def init_route():\n",
    "\n",
    "    N = 100                        #Taille de la route (en mailles)   \n",
    "    U_init = np.zeros(N)           #Discrétisation de la route\n",
    "    #U_init[0:30] = 100\n",
    "    h = 0.1                         #Taille de chaque maille (en km)\n",
    "    I = 1                          #Nombre de lignes\n",
    "    nom = \"Section solo test\"\n",
    "    p_c = 100.                     #Densité critique (en vh/km)\n",
    "    p_max = 150.                   #Densité max (en vh/km)\n",
    "    V_0 = 50.                      #Vitesse souhaitée (en km/h)                         \n",
    "    flux_entrant = 800            #Flux de véhicules entrant (en vh/h)\n",
    "    fl_fix = flux_entrant\n",
    "    #flux_t_entrant = 0            #Flux de temps d'attente\n",
    "    #T = 1.4/3600                   #Temps de réaction\n",
    "    dt =  0.99*(h/V_0)             #CFL\n",
    "\n",
    "    route = s.section(p_max = p_max, V_0 = V_0, I = I, U = U_init, flux_entrant=flux_entrant, p_c = p_c, nom = nom, sortie=True)\n",
    "    model = mod.model([route], intersections= None, carrefours= None, dt = dt, h = h)\n",
    "\n",
    "    return route, model"
   ]
  },
  {
   "cell_type": "code",
   "execution_count": null,
   "id": "08c4e126",
   "metadata": {},
   "outputs": [],
   "source": [
    "def simulation(T):\n",
    "    # T correspond au nombre de pas de temps qu'on veut pour notre simulation\n",
    "    pho_global = np.zeros((T-100,N))\n",
    "    route, model = init_route()\n",
    "\n",
    "    for i in range(T):\n",
    "        model.resoudre()\n",
    "        variation(route, fl_fix)\n",
    "        if i>=100:\n",
    "            pho_global[i-100] = route.U\n",
    "\n",
    "    return np.asarray(pho_global)"
   ]
  },
  {
   "cell_type": "code",
   "execution_count": null,
   "id": "7d5706de",
   "metadata": {},
   "outputs": [],
   "source": [
    "def MC_sim(M, simulator, T, N):\n",
    "    # M correspond au nombre d'iter pour MC\n",
    "    # simulator correspond au modèle à simuler\n",
    "    stockage = []\n",
    "    for m in range(M):\n",
    "        sim = simulator(T)\n",
    "        stockage.append(sim)\n",
    "    return stockage"
   ]
  },
  {
   "cell_type": "code",
   "execution_count": null,
   "id": "03c938bd",
   "metadata": {},
   "outputs": [],
   "source": [
    "mc_values = MC_sim(100, simulation, 200, N)"
   ]
  },
  {
   "cell_type": "code",
   "execution_count": null,
   "id": "c33ce2df",
   "metadata": {},
   "outputs": [],
   "source": [
    "np.shape(mc_values)"
   ]
  },
  {
   "cell_type": "code",
   "execution_count": null,
   "id": "e122db34",
   "metadata": {},
   "outputs": [],
   "source": [
    "from matplotlib.widgets import Slider, Button\n",
    "from ipywidgets import *\n",
    "\n",
    "def density_dist(mc_v, t, x):\n",
    "    return mc_v[:][t][x]\n",
    "\n",
    "init_t = 70\n",
    "init_x = 81\n",
    "\n",
    "\n",
    "\n",
    "\n",
    "%matplotlib inline\n",
    "fig, ax = plt.subplots()\n",
    "line, = ax.plot(density_dist(mc_values, init_t, init_x), lw=2)\n",
    "ax.set_xlabel('Densité (vh/maille')\n",
    "\n",
    "# adjust the main plot to make room for the sliders\n",
    "fig.subplots_adjust(left=0.25, bottom=0.25)\n",
    "\n",
    "# Make a horizontal slider to control the frequency.\n",
    "axfreq = fig.add_axes([0.25, 0.1, 0.65, 0.03])\n",
    "freq_slider = Slider(\n",
    "    ax=axfreq,\n",
    "    label='Position [Maille]',\n",
    "    valmin=0,\n",
    "    valmax=100,\n",
    "    valinit=init_x,\n",
    ")\n",
    "\n",
    "# Make a vertically oriented slider to control the amplitude\n",
    "axamp = fig.add_axes([0.1, 0.25, 0.0225, 0.63])\n",
    "amp_slider = Slider(\n",
    "    ax=axamp,\n",
    "    label=\"Time [dt]\",\n",
    "    valmin=0,\n",
    "    valmax=100,\n",
    "    valinit=init_t,\n",
    "    orientation=\"vertical\"\n",
    ")\n",
    "\n",
    "\n",
    "# The function to be called anytime a slider's value changes\n",
    "def update(val):\n",
    "    line.set_ydata(density_dist(amp_slider.val, freq_slider.val))\n",
    "    fig.canvas.draw_idle()\n",
    "\n",
    "\n",
    "# register the update function with each slider\n",
    "freq_slider.on_changed(update)\n",
    "amp_slider.on_changed(update)\n",
    "\n",
    "# # Create a `matplotlib.widgets.Button` to reset the sliders to initial values.\n",
    "# resetax = fig.add_axes([0.8, 0.025, 0.1, 0.04])\n",
    "# button = Button(resetax, 'Reset', hovercolor='0.975')\n",
    "\n",
    "\n",
    "# def reset(event):\n",
    "#     freq_slider.reset()\n",
    "#     amp_slider.reset()\n",
    "#button.on_clicked(reset)\n",
    "\n",
    "plt.show()"
   ]
  },
  {
   "cell_type": "code",
   "execution_count": null,
   "id": "d13e7c50",
   "metadata": {},
   "outputs": [],
   "source": [
    "from matplotlib.widgets import Slider, Button\n",
    "from ipywidgets import *\n",
    "\n",
    "def density_dist(mc_v, t, x):\n",
    "    return mc_v[:][t][x]\n",
    "\n",
    "init_t = 70\n",
    "init_x = 81\n",
    "\n",
    "\n",
    "%matplotlib inline\n",
    "fig, ax = plt.subplots()\n",
    "line, = ax.plot(density_dist(mc_values, init_t, init_x), lw=2)\n",
    "ax.set_xlabel('Densité (vh/maille')\n",
    "\n",
    "# adjust the main plot to make room for the sliders\n",
    "fig.subplots_adjust(left=0.25, bottom=0.25)\n",
    "\n",
    "# Make a horizontal slider to control the frequency.\n",
    "axfreq = fig.add_axes([0.25, 0.1, 0.65, 0.03])\n",
    "freq_slider = Slider(\n",
    "    ax=axfreq,\n",
    "    label='Position [Maille]',\n",
    "    valmin=0,\n",
    "    valmax=100,\n",
    "    valinit=init_x,\n",
    ")\n",
    "\n",
    "# Make a vertically oriented slider to control the amplitude\n",
    "axamp = fig.add_axes([0.1, 0.25, 0.0225, 0.63])\n",
    "amp_slider = Slider(\n",
    "    ax=axamp,\n",
    "    label=\"Time [dt]\",\n",
    "    valmin=0,\n",
    "    valmax=100,\n",
    "    valinit=init_t,\n",
    "    orientation=\"vertical\"\n",
    ")\n",
    "\n",
    "\n",
    "# The function to be called anytime a slider's value changes\n",
    "def update(val):\n",
    "    line.set_ydata(density_dist(mc_values,amp_slider.val, freq_slider.val))\n",
    "    fig.canvas.draw_idle()\n",
    "\n",
    "\n",
    "# register the update function with each slider\n",
    "#interact(update)\n",
    "freq_slider.on_changed(update)\n",
    "amp_slider.on_changed(update)\n",
    "\n",
    "\n",
    "plt.show()"
   ]
  },
  {
   "cell_type": "code",
   "execution_count": null,
   "id": "462a8ebb",
   "metadata": {},
   "outputs": [],
   "source": [
    "\n",
    "np.asarray(mc_values).tofile('mc.csv', sep =\",\")"
   ]
  },
  {
   "cell_type": "code",
   "execution_count": null,
   "id": "6f565d87",
   "metadata": {},
   "outputs": [],
   "source": [
    "%matplotlib inline\n",
    "\n",
    "x = np.linspace(0, 2 * np.pi)\n",
    "fig = plt.figure()\n",
    "ax = fig.add_subplot(1, 1, 1)\n",
    "line, = ax.plot(x, np.sin(x))\n",
    "\n",
    "def update(w = 1.0):\n",
    "    line.set_ydata(np.sin(w * x))\n",
    "    fig.canvas.draw_idle()\n",
    "\n",
    "interact(update)\n",
    "\n"
   ]
  },
  {
   "cell_type": "code",
   "execution_count": null,
   "id": "18c85aa2",
   "metadata": {},
   "outputs": [],
   "source": []
  }
 ],
 "metadata": {
  "kernelspec": {
   "display_name": "Python 3 (ipykernel)",
   "language": "python",
   "name": "python3"
  },
  "language_info": {
   "codemirror_mode": {
    "name": "ipython",
    "version": 3
   },
   "file_extension": ".py",
   "mimetype": "text/x-python",
   "name": "python",
   "nbconvert_exporter": "python",
   "pygments_lexer": "ipython3",
   "version": "3.11.2"
  }
 },
 "nbformat": 4,
 "nbformat_minor": 5
}
